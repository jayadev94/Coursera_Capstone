{
 "cells": [
  {
   "cell_type": "markdown",
   "metadata": {},
   "source": [
    "# The Mover's Guide: Toronto to New York"
   ]
  },
  {
   "cell_type": "markdown",
   "metadata": {},
   "source": [
    "## 1. Introduction\n",
    "\n",
    "### 1.1 Background\n",
    "\n",
    "In the age of globalization, people migrate between countries for purposes varying from business and education to adventure and discovery. \n",
    "Such movement of people is most prominent between metropolitan cities with a large population. \n",
    "This is evident in the number of expats living in major global cities worldwide. \n",
    "\n",
    "Two of the largest cities in Northern America are New York and Toronto, both of which are the most populous of their respective countries.\n",
    "New York has a population of greater than 8 million residents and Toronto has a population of close to 3 million residents.\n",
    "It is natural to assume that there is plenty of movement and relocation of citizens from both cities, especially given their geographic proximity and economic influence.\n",
    "It would therefore be helpful to have a guide for people planning to relocate from Toronto to New York or vice versa.\n",
    "\n",
    "### 1.2 Problem\n",
    "\n",
    "New York city is split into five boroughs, each of which houses several neighborhoods, the most populous being Brooklyn, Manhattan and Queens.\n",
    "Toronto is also split into several neighborhoods.\n",
    "For someone moving from one of these cities to the other, it would be useful to have an idea about which neighborhood to move into, based on their current neighborhood of residence.\n",
    "This project aims to cluster the neighborhoods in the two cities in order to predict which neighborhood in the new city would be similar to the neighborhood of residence (or any other, depending on the user's choice) in the old city.\n",
    "\n",
    "### 1.3 Interest\n",
    "\n",
    "This guide is primarily targeted at anyone planning to move between the two cities and used to a certain lifestyle in either city.\n",
    "It would be convenient if they could be able to reproduce a similar lifestyle in the other city - this could be quantified using several indicators such as proximity to parks, public transportation, distance from the downtown, types of restaurants and educational facilities to name a few.\n",
    "\n",
    "\n",
    "\n"
   ]
  },
  {
   "cell_type": "markdown",
   "metadata": {},
   "source": [
    "## 2. Data \n",
    "\n",
    "### 2.1 Data Source\n",
    "\n",
    "Information about neighborhoods and their geographical coordinates are obtained using two different methods.\n",
    "\n",
    "For the New York boroughs of Brooklyn, Manhattan and Queens, the data is available online and we use the same file as in the Week 2 assignment from the course.\n",
    "\n",
    "For Toronto, since there is no widely available database, we make use of the wikipedia page - https://en.wikipedia.org/wiki/List_of_postal_codes_of_Canada:_M - to extract information about the geographical coordinates of the neighborhoods.\n",
    "We use the BeautifulSoup package to import the wiki page as a table into the Jupyter notebook.\n",
    "\n",
    "The data required for comparing the neighborhoods based on its attributes is achieved using data from Foursquare about these locations."
   ]
  },
  {
   "cell_type": "markdown",
   "metadata": {},
   "source": [
    "### 2.2 Data Cleaning\n",
    "\n",
    "The data extracted for Toronto does not have the same format as the data extracted the New York.\n",
    "For example, there are certain neighborhoods which are not assigned a name.\n",
    "For these neighborhoods, we replace the neighborhood name with the name of the borough it is part of.\n",
    "Additionally, while importing the table, the line breaker '\\n' appears as part of the string, which is cumbersome to work with.\n",
    "Hence, we manually remove '\\n's from the dataframe.\n",
    "Through these methods, we are able to generate a dataframe for Toronto containing the neighborhood names and geographical coordinates, consistent with the format for New York.\n",
    "This is essential, because during the clustering step, these two datasets will be combined.\n",
    "\n",
    "### 2.3 Feature Selection\n",
    "\n",
    "The primary features required for comparison include attributes of the neighborhood such as restaurants, educational and sports facilities, access to various modes of transportation, recreational areas, etc.\n",
    "These attributes are imported using freely available data from Foursquare.\n",
    "Importing Foursquare data is the crucial step because it lists the feautures as a function of the geographical location, which is key in order to compare neighborhoods.\n",
    "\n",
    "The feautures are chosen in a 500 metre radius from the center of the particular neighborhood as given by its lattitude and longitude.\n"
   ]
  },
  {
   "cell_type": "code",
   "execution_count": null,
   "metadata": {},
   "outputs": [],
   "source": []
  }
 ],
 "metadata": {
  "kernelspec": {
   "display_name": "Python 3",
   "language": "python",
   "name": "python3"
  },
  "language_info": {
   "codemirror_mode": {
    "name": "ipython",
    "version": 3
   },
   "file_extension": ".py",
   "mimetype": "text/x-python",
   "name": "python",
   "nbconvert_exporter": "python",
   "pygments_lexer": "ipython3",
   "version": "3.7.6"
  }
 },
 "nbformat": 4,
 "nbformat_minor": 4
}
